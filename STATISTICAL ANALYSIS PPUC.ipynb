{
 "cells": [
  {
   "cell_type": "markdown",
   "metadata": {},
   "source": [
    "# STATISTICAL ANALYSIS PPUC\n",
    "\n",
    "In this part, we would like test our hypothersis by answering to some general statistical questions. \n",
    "####  Null Hyothesis(Ho) : The price of the used car is not correlated to car mileage, car age, car model and car transmission \n",
    "\n",
    "####  Alternative hypothesis (H1): There is  a relationship among them \n",
    "\n",
    "How are we going to test this hypothesis:\n",
    "\n",
    "By intuition and by the common sense, we reject the null hypothesis by interpreting the p and t values\n",
    "\n",
    "The main questions related to that hypothesis testing are going to be: \n",
    "    1) Is there anay relatioship (association) between those listed features and car price?\n",
    "    2) If there exists how strong is that relationship?\n",
    "    3) which feature most insfluences the car price?\n",
    "    4) can car price be pridected trhoughout those features? if so what's will be the best model?\n",
    "    \n",
    "    To answer to these question we are going to use STATSMODEL AND SCIKIT-LEARN"
   ]
  },
  {
   "cell_type": "code",
   "execution_count": 1,
   "metadata": {
    "collapsed": true
   },
   "outputs": [],
   "source": [
    "import pandas as pd\n",
    "import numpy as np\n",
    "import matplotlib.pyplot as plt\n",
    "% matplotlib inline\n",
    "plt.style.use('ggplot')\n",
    "import seaborn as sb\n",
    "import os\n",
    "from shutil import copyfile\n",
    "from datetime import datetime\n",
    "import sklearn\n",
    "import seaborn as sns"
   ]
  },
  {
   "cell_type": "code",
   "execution_count": 3,
   "metadata": {
    "collapsed": false
   },
   "outputs": [
    {
     "data": {
      "text/html": [
       "<div>\n",
       "<table border=\"1\" class=\"dataframe\">\n",
       "  <thead>\n",
       "    <tr style=\"text-align: right;\">\n",
       "      <th></th>\n",
       "      <th>car_id</th>\n",
       "      <th>car_make</th>\n",
       "      <th>car_model</th>\n",
       "      <th>car_year</th>\n",
       "      <th>car_mileage</th>\n",
       "      <th>car_price</th>\n",
       "      <th>car_transmission</th>\n",
       "      <th>car_driveTrain</th>\n",
       "      <th>car_vendor</th>\n",
       "      <th>car_location</th>\n",
       "      <th>car_engine</th>\n",
       "    </tr>\n",
       "  </thead>\n",
       "  <tbody>\n",
       "    <tr>\n",
       "      <th>0</th>\n",
       "      <td>73531922</td>\n",
       "      <td>Toyota</td>\n",
       "      <td>Corolla-LE</td>\n",
       "      <td>2015</td>\n",
       "      <td>23036</td>\n",
       "      <td>13298</td>\n",
       "      <td>Automatic</td>\n",
       "      <td>FWD</td>\n",
       "      <td>Chantilly</td>\n",
       "      <td>VA 20151</td>\n",
       "      <td>1.8 4 Cylinder Sequential-Port F.I.</td>\n",
       "    </tr>\n",
       "    <tr>\n",
       "      <th>1</th>\n",
       "      <td>72354903</td>\n",
       "      <td>Jeep</td>\n",
       "      <td>Wrangler-Unlimted-Sahara</td>\n",
       "      <td>2012</td>\n",
       "      <td>73619</td>\n",
       "      <td>26995</td>\n",
       "      <td>AUTOMATIC</td>\n",
       "      <td>4WD</td>\n",
       "      <td>Baltimore</td>\n",
       "      <td>MD 21215</td>\n",
       "      <td>3.6L 6 CYL. GAS</td>\n",
       "    </tr>\n",
       "    <tr>\n",
       "      <th>2</th>\n",
       "      <td>73704666</td>\n",
       "      <td>Honda</td>\n",
       "      <td>Civic-LX</td>\n",
       "      <td>2014</td>\n",
       "      <td>27784</td>\n",
       "      <td>14097</td>\n",
       "      <td>Automatic</td>\n",
       "      <td>FWD</td>\n",
       "      <td>Ellicott City</td>\n",
       "      <td>MD 21043</td>\n",
       "      <td>1.80L I4</td>\n",
       "    </tr>\n",
       "    <tr>\n",
       "      <th>3</th>\n",
       "      <td>73566743</td>\n",
       "      <td>Jeep</td>\n",
       "      <td>Grand-Cherokee-Limited</td>\n",
       "      <td>2014</td>\n",
       "      <td>36636</td>\n",
       "      <td>27899</td>\n",
       "      <td>8-Speed Automatic</td>\n",
       "      <td>4WD</td>\n",
       "      <td>Palmyra</td>\n",
       "      <td>PA 17078</td>\n",
       "      <td>3.6L V6 Flex Fuel 24V VVT</td>\n",
       "    </tr>\n",
       "    <tr>\n",
       "      <th>4</th>\n",
       "      <td>73745994</td>\n",
       "      <td>Hyundai</td>\n",
       "      <td>Santa-Fe-Sport-24L</td>\n",
       "      <td>2013</td>\n",
       "      <td>48568</td>\n",
       "      <td>18981</td>\n",
       "      <td>A</td>\n",
       "      <td>AWD</td>\n",
       "      <td>Doylestown</td>\n",
       "      <td>PA 18902</td>\n",
       "      <td>2.40L I4</td>\n",
       "    </tr>\n",
       "  </tbody>\n",
       "</table>\n",
       "</div>"
      ],
      "text/plain": [
       "     car_id car_make                 car_model  car_year  car_mileage  \\\n",
       "0  73531922   Toyota                Corolla-LE      2015        23036   \n",
       "1  72354903     Jeep  Wrangler-Unlimted-Sahara      2012        73619   \n",
       "2  73704666    Honda                  Civic-LX      2014        27784   \n",
       "3  73566743     Jeep    Grand-Cherokee-Limited      2014        36636   \n",
       "4  73745994  Hyundai        Santa-Fe-Sport-24L      2013        48568   \n",
       "\n",
       "   car_price   car_transmission car_driveTrain     car_vendor car_location  \\\n",
       "0      13298          Automatic            FWD      Chantilly     VA 20151   \n",
       "1      26995          AUTOMATIC            4WD      Baltimore     MD 21215   \n",
       "2      14097          Automatic            FWD  Ellicott City     MD 21043   \n",
       "3      27899  8-Speed Automatic            4WD        Palmyra     PA 17078   \n",
       "4      18981                  A            AWD     Doylestown     PA 18902   \n",
       "\n",
       "                            car_engine  \n",
       "0  1.8 4 Cylinder Sequential-Port F.I.  \n",
       "1                      3.6L 6 CYL. GAS  \n",
       "2                             1.80L I4  \n",
       "3            3.6L V6 Flex Fuel 24V VVT  \n",
       "4                             2.40L I4  "
      ]
     },
     "execution_count": 3,
     "metadata": {},
     "output_type": "execute_result"
    }
   ],
   "source": [
    "# UPLOADING THE DATA SET\n",
    "\n",
    "Data_Frame = pd.read_csv('C:/Users/emmat/Desktop/database/DATA.csv',  encoding='cp1252', index_col= 0)\n",
    "Data_Frame.head(5)"
   ]
  },
  {
   "cell_type": "code",
   "execution_count": 5,
   "metadata": {
    "collapsed": false
   },
   "outputs": [
    {
     "data": {
      "text/plain": [
       "(21594, 11)"
      ]
     },
     "execution_count": 5,
     "metadata": {},
     "output_type": "execute_result"
    }
   ],
   "source": [
    "Data_Frame.shape"
   ]
  },
  {
   "cell_type": "markdown",
   "metadata": {},
   "source": [
    "###     A quick remark: \n",
    "\n",
    "###    On the car_transmission valiable, the attribute \"automatic\" is materialized by three different symbols: 'Automatic', 'AUTOMATIC', 'A'. First let's uniformize that variale by a unique attribute \"Automatic\""
   ]
  },
  {
   "cell_type": "code",
   "execution_count": 6,
   "metadata": {
    "collapsed": false
   },
   "outputs": [
    {
     "data": {
      "text/html": [
       "<div>\n",
       "<table border=\"1\" class=\"dataframe\">\n",
       "  <thead>\n",
       "    <tr style=\"text-align: right;\">\n",
       "      <th></th>\n",
       "      <th>car_id</th>\n",
       "      <th>car_make</th>\n",
       "      <th>car_model</th>\n",
       "      <th>car_year</th>\n",
       "      <th>car_mileage</th>\n",
       "      <th>car_price</th>\n",
       "      <th>car_transmission</th>\n",
       "      <th>car_driveTrain</th>\n",
       "      <th>car_vendor</th>\n",
       "      <th>car_location</th>\n",
       "      <th>car_engine</th>\n",
       "    </tr>\n",
       "  </thead>\n",
       "  <tbody>\n",
       "    <tr>\n",
       "      <th>0</th>\n",
       "      <td>73531922</td>\n",
       "      <td>Toyota</td>\n",
       "      <td>Corolla-LE</td>\n",
       "      <td>2015</td>\n",
       "      <td>23036</td>\n",
       "      <td>13298</td>\n",
       "      <td>Automatic</td>\n",
       "      <td>FWD</td>\n",
       "      <td>Chantilly</td>\n",
       "      <td>VA 20151</td>\n",
       "      <td>1.8 4 Cylinder Sequential-Port F.I.</td>\n",
       "    </tr>\n",
       "    <tr>\n",
       "      <th>1</th>\n",
       "      <td>72354903</td>\n",
       "      <td>Jeep</td>\n",
       "      <td>Wrangler-Unlimted-Sahara</td>\n",
       "      <td>2012</td>\n",
       "      <td>73619</td>\n",
       "      <td>26995</td>\n",
       "      <td>Automatic</td>\n",
       "      <td>4WD</td>\n",
       "      <td>Baltimore</td>\n",
       "      <td>MD 21215</td>\n",
       "      <td>3.6L 6 CYL. GAS</td>\n",
       "    </tr>\n",
       "    <tr>\n",
       "      <th>2</th>\n",
       "      <td>73704666</td>\n",
       "      <td>Honda</td>\n",
       "      <td>Civic-LX</td>\n",
       "      <td>2014</td>\n",
       "      <td>27784</td>\n",
       "      <td>14097</td>\n",
       "      <td>Automatic</td>\n",
       "      <td>FWD</td>\n",
       "      <td>Ellicott City</td>\n",
       "      <td>MD 21043</td>\n",
       "      <td>1.80L I4</td>\n",
       "    </tr>\n",
       "  </tbody>\n",
       "</table>\n",
       "</div>"
      ],
      "text/plain": [
       "     car_id car_make                 car_model  car_year  car_mileage  \\\n",
       "0  73531922   Toyota                Corolla-LE      2015        23036   \n",
       "1  72354903     Jeep  Wrangler-Unlimted-Sahara      2012        73619   \n",
       "2  73704666    Honda                  Civic-LX      2014        27784   \n",
       "\n",
       "   car_price car_transmission car_driveTrain     car_vendor car_location  \\\n",
       "0      13298        Automatic            FWD      Chantilly     VA 20151   \n",
       "1      26995        Automatic            4WD      Baltimore     MD 21215   \n",
       "2      14097        Automatic            FWD  Ellicott City     MD 21043   \n",
       "\n",
       "                            car_engine  \n",
       "0  1.8 4 Cylinder Sequential-Port F.I.  \n",
       "1                      3.6L 6 CYL. GAS  \n",
       "2                             1.80L I4  "
      ]
     },
     "execution_count": 6,
     "metadata": {},
     "output_type": "execute_result"
    }
   ],
   "source": [
    "# this dictionary transform all the symbols attributed to car_transmission to a unique one \n",
    "\n",
    "some_changes = {\"car_transmission\":   \n",
    "                {\"AUTO\":\"Automatic\" , \"Automatic CVT\":\"Automatic\",\n",
    "\"AUTOMATIC\": \"Automatic\",\"A\": \"Automatic\" }}\n",
    "\n",
    "Data_Frame.replace(some_changes, inplace=True)\n",
    "Data_Frame.head(3)"
   ]
  },
  {
   "cell_type": "markdown",
   "metadata": {},
   "source": [
    "###  Now let's check if our new data set is perfectly cleaned (has no missing values and has no duplicates)¶"
   ]
  },
  {
   "cell_type": "code",
   "execution_count": 7,
   "metadata": {
    "collapsed": false
   },
   "outputs": [
    {
     "data": {
      "text/plain": [
       "2"
      ]
     },
     "execution_count": 7,
     "metadata": {},
     "output_type": "execute_result"
    }
   ],
   "source": [
    "# checking duplicates rows\n",
    "\n",
    "Data_Frame.duplicated('car_id').sum()"
   ]
  },
  {
   "cell_type": "markdown",
   "metadata": {},
   "source": [
    "###  It appears that we have 2 duplicated rows. Let's take a look at those 2 duplicated rows"
   ]
  },
  {
   "cell_type": "code",
   "execution_count": 8,
   "metadata": {
    "collapsed": false,
    "scrolled": true
   },
   "outputs": [
    {
     "data": {
      "text/html": [
       "<div>\n",
       "<table border=\"1\" class=\"dataframe\">\n",
       "  <thead>\n",
       "    <tr style=\"text-align: right;\">\n",
       "      <th></th>\n",
       "      <th>car_id</th>\n",
       "      <th>car_make</th>\n",
       "      <th>car_model</th>\n",
       "      <th>car_year</th>\n",
       "      <th>car_mileage</th>\n",
       "      <th>car_price</th>\n",
       "      <th>car_transmission</th>\n",
       "      <th>car_driveTrain</th>\n",
       "      <th>car_vendor</th>\n",
       "      <th>car_location</th>\n",
       "      <th>car_engine</th>\n",
       "    </tr>\n",
       "  </thead>\n",
       "  <tbody>\n",
       "    <tr>\n",
       "      <th>3894</th>\n",
       "      <td>701805568</td>\n",
       "      <td>Ford</td>\n",
       "      <td>Escape</td>\n",
       "      <td>2016</td>\n",
       "      <td>33633</td>\n",
       "      <td>17293</td>\n",
       "      <td>6-Speed Automatic</td>\n",
       "      <td>4WD</td>\n",
       "      <td>Temple Hills</td>\n",
       "      <td>Temple Hills</td>\n",
       "      <td>NaN</td>\n",
       "    </tr>\n",
       "    <tr>\n",
       "      <th>4060</th>\n",
       "      <td>701805568</td>\n",
       "      <td>Ford</td>\n",
       "      <td>Escape</td>\n",
       "      <td>2016</td>\n",
       "      <td>33633</td>\n",
       "      <td>17790</td>\n",
       "      <td>6-Speed Automatic</td>\n",
       "      <td>4WD</td>\n",
       "      <td>Temple Hills</td>\n",
       "      <td>Temple Hills</td>\n",
       "      <td>NaN</td>\n",
       "    </tr>\n",
       "    <tr>\n",
       "      <th>4081</th>\n",
       "      <td>705830314</td>\n",
       "      <td>Chevrolet</td>\n",
       "      <td>Impala</td>\n",
       "      <td>2001</td>\n",
       "      <td>117241</td>\n",
       "      <td>24500</td>\n",
       "      <td>Automatic</td>\n",
       "      <td>FWD</td>\n",
       "      <td>Marlow Heights</td>\n",
       "      <td>Marlow Heights</td>\n",
       "      <td>NaN</td>\n",
       "    </tr>\n",
       "    <tr>\n",
       "      <th>4395</th>\n",
       "      <td>705830314</td>\n",
       "      <td>Chevrolet</td>\n",
       "      <td>Impala</td>\n",
       "      <td>2001</td>\n",
       "      <td>117241</td>\n",
       "      <td>24516</td>\n",
       "      <td>Automatic</td>\n",
       "      <td>FWD</td>\n",
       "      <td>Marlow Heights</td>\n",
       "      <td>Marlow Heights</td>\n",
       "      <td>NaN</td>\n",
       "    </tr>\n",
       "  </tbody>\n",
       "</table>\n",
       "</div>"
      ],
      "text/plain": [
       "         car_id   car_make car_model  car_year  car_mileage  car_price  \\\n",
       "3894  701805568       Ford    Escape      2016        33633      17293   \n",
       "4060  701805568       Ford    Escape      2016        33633      17790   \n",
       "4081  705830314  Chevrolet    Impala      2001       117241      24500   \n",
       "4395  705830314  Chevrolet    Impala      2001       117241      24516   \n",
       "\n",
       "       car_transmission car_driveTrain      car_vendor    car_location  \\\n",
       "3894  6-Speed Automatic            4WD    Temple Hills    Temple Hills   \n",
       "4060  6-Speed Automatic            4WD    Temple Hills    Temple Hills   \n",
       "4081          Automatic            FWD  Marlow Heights  Marlow Heights   \n",
       "4395          Automatic            FWD  Marlow Heights  Marlow Heights   \n",
       "\n",
       "     car_engine  \n",
       "3894        NaN  \n",
       "4060        NaN  \n",
       "4081        NaN  \n",
       "4395        NaN  "
      ]
     },
     "execution_count": 8,
     "metadata": {},
     "output_type": "execute_result"
    }
   ],
   "source": [
    "Data_Frame [Data_Frame.duplicated(['car_id'], keep=False)]"
   ]
  },
  {
   "cell_type": "markdown",
   "metadata": {},
   "source": [
    "###   We can get rid of those duplicated rows. They have different prices and we do not know which price is right"
   ]
  },
  {
   "cell_type": "code",
   "execution_count": 9,
   "metadata": {
    "collapsed": false
   },
   "outputs": [
    {
     "data": {
      "text/plain": [
       "(21590, 11)"
      ]
     },
     "execution_count": 9,
     "metadata": {},
     "output_type": "execute_result"
    }
   ],
   "source": [
    "Data_Frame = Data_Frame.drop_duplicates(subset=['car_id'], keep= False)\n",
    "Data_Frame .shape"
   ]
  },
  {
   "cell_type": "code",
   "execution_count": 10,
   "metadata": {
    "collapsed": false
   },
   "outputs": [
    {
     "data": {
      "text/plain": [
       "0"
      ]
     },
     "execution_count": 10,
     "metadata": {},
     "output_type": "execute_result"
    }
   ],
   "source": [
    "## checking if still any duplicated values\n",
    "\n",
    "Data_Frame.duplicated('car_id').sum() \n",
    "\n",
    "# the same can be done by the following code : \n",
    "# Data_Frame[Data_Frame.isnull().any(axis=1)]"
   ]
  },
  {
   "cell_type": "code",
   "execution_count": 11,
   "metadata": {
    "collapsed": false
   },
   "outputs": [
    {
     "data": {
      "text/plain": [
       "car_id                 0\n",
       "car_make               0\n",
       "car_model              0\n",
       "car_year               0\n",
       "car_mileage            0\n",
       "car_price              0\n",
       "car_transmission     335\n",
       "car_driveTrain       335\n",
       "car_vendor             0\n",
       "car_location           0\n",
       "car_engine          4882\n",
       "dtype: int64"
      ]
     },
     "execution_count": 11,
     "metadata": {},
     "output_type": "execute_result"
    }
   ],
   "source": [
    "# In more detail, let see how many null values we get\n",
    "\n",
    "Data_Frame.isnull().sum()"
   ]
  },
  {
   "cell_type": "markdown",
   "metadata": {},
   "source": [
    "###  car_transmission , car_driveTrain, car_engine columns still have some missing values. we can easily cleaned them using the fillna method"
   ]
  },
  {
   "cell_type": "code",
   "execution_count": 12,
   "metadata": {
    "collapsed": false
   },
   "outputs": [
    {
     "data": {
      "text/html": [
       "<div>\n",
       "<table border=\"1\" class=\"dataframe\">\n",
       "  <thead>\n",
       "    <tr style=\"text-align: right;\">\n",
       "      <th></th>\n",
       "      <th>car_id</th>\n",
       "      <th>car_make</th>\n",
       "      <th>car_model</th>\n",
       "      <th>car_year</th>\n",
       "      <th>car_mileage</th>\n",
       "      <th>car_price</th>\n",
       "      <th>car_transmission</th>\n",
       "      <th>car_driveTrain</th>\n",
       "      <th>car_vendor</th>\n",
       "      <th>car_location</th>\n",
       "      <th>car_engine</th>\n",
       "    </tr>\n",
       "  </thead>\n",
       "  <tbody>\n",
       "    <tr>\n",
       "      <th>0</th>\n",
       "      <td>73531922</td>\n",
       "      <td>Toyota</td>\n",
       "      <td>Corolla-LE</td>\n",
       "      <td>2015</td>\n",
       "      <td>23036</td>\n",
       "      <td>13298</td>\n",
       "      <td>Automatic</td>\n",
       "      <td>FWD</td>\n",
       "      <td>Chantilly</td>\n",
       "      <td>VA 20151</td>\n",
       "      <td>1.8 4 Cylinder Sequential-Port F.I.</td>\n",
       "    </tr>\n",
       "    <tr>\n",
       "      <th>1</th>\n",
       "      <td>72354903</td>\n",
       "      <td>Jeep</td>\n",
       "      <td>Wrangler-Unlimted-Sahara</td>\n",
       "      <td>2012</td>\n",
       "      <td>73619</td>\n",
       "      <td>26995</td>\n",
       "      <td>Automatic</td>\n",
       "      <td>4WD</td>\n",
       "      <td>Baltimore</td>\n",
       "      <td>MD 21215</td>\n",
       "      <td>3.6L 6 CYL. GAS</td>\n",
       "    </tr>\n",
       "    <tr>\n",
       "      <th>2</th>\n",
       "      <td>73704666</td>\n",
       "      <td>Honda</td>\n",
       "      <td>Civic-LX</td>\n",
       "      <td>2014</td>\n",
       "      <td>27784</td>\n",
       "      <td>14097</td>\n",
       "      <td>Automatic</td>\n",
       "      <td>FWD</td>\n",
       "      <td>Ellicott City</td>\n",
       "      <td>MD 21043</td>\n",
       "      <td>1.80L I4</td>\n",
       "    </tr>\n",
       "    <tr>\n",
       "      <th>3</th>\n",
       "      <td>73566743</td>\n",
       "      <td>Jeep</td>\n",
       "      <td>Grand-Cherokee-Limited</td>\n",
       "      <td>2014</td>\n",
       "      <td>36636</td>\n",
       "      <td>27899</td>\n",
       "      <td>8-Speed Automatic</td>\n",
       "      <td>4WD</td>\n",
       "      <td>Palmyra</td>\n",
       "      <td>PA 17078</td>\n",
       "      <td>3.6L V6 Flex Fuel 24V VVT</td>\n",
       "    </tr>\n",
       "    <tr>\n",
       "      <th>4</th>\n",
       "      <td>73745994</td>\n",
       "      <td>Hyundai</td>\n",
       "      <td>Santa-Fe-Sport-24L</td>\n",
       "      <td>2013</td>\n",
       "      <td>48568</td>\n",
       "      <td>18981</td>\n",
       "      <td>Automatic</td>\n",
       "      <td>AWD</td>\n",
       "      <td>Doylestown</td>\n",
       "      <td>PA 18902</td>\n",
       "      <td>2.40L I4</td>\n",
       "    </tr>\n",
       "  </tbody>\n",
       "</table>\n",
       "</div>"
      ],
      "text/plain": [
       "     car_id car_make                 car_model  car_year  car_mileage  \\\n",
       "0  73531922   Toyota                Corolla-LE      2015        23036   \n",
       "1  72354903     Jeep  Wrangler-Unlimted-Sahara      2012        73619   \n",
       "2  73704666    Honda                  Civic-LX      2014        27784   \n",
       "3  73566743     Jeep    Grand-Cherokee-Limited      2014        36636   \n",
       "4  73745994  Hyundai        Santa-Fe-Sport-24L      2013        48568   \n",
       "\n",
       "   car_price   car_transmission car_driveTrain     car_vendor car_location  \\\n",
       "0      13298          Automatic            FWD      Chantilly     VA 20151   \n",
       "1      26995          Automatic            4WD      Baltimore     MD 21215   \n",
       "2      14097          Automatic            FWD  Ellicott City     MD 21043   \n",
       "3      27899  8-Speed Automatic            4WD        Palmyra     PA 17078   \n",
       "4      18981          Automatic            AWD     Doylestown     PA 18902   \n",
       "\n",
       "                            car_engine  \n",
       "0  1.8 4 Cylinder Sequential-Port F.I.  \n",
       "1                      3.6L 6 CYL. GAS  \n",
       "2                             1.80L I4  \n",
       "3            3.6L V6 Flex Fuel 24V VVT  \n",
       "4                             2.40L I4  "
      ]
     },
     "execution_count": 12,
     "metadata": {},
     "output_type": "execute_result"
    }
   ],
   "source": [
    "# filling missing values in car_driveTrain and car_transmission\n",
    "\n",
    "Data_Frame['car_driveTrain'].fillna('FWD', inplace=True)\n",
    "Data_Frame['car_transmission'].fillna('Automatic', inplace=True)\n",
    "Data_Frame.head(5)"
   ]
  },
  {
   "cell_type": "markdown",
   "metadata": {},
   "source": [
    "## we can drop for now the car_engine column. we do not need it now"
   ]
  },
  {
   "cell_type": "code",
   "execution_count": 39,
   "metadata": {
    "collapsed": false
   },
   "outputs": [
    {
     "data": {
      "text/html": [
       "<div>\n",
       "<table border=\"1\" class=\"dataframe\">\n",
       "  <thead>\n",
       "    <tr style=\"text-align: right;\">\n",
       "      <th></th>\n",
       "      <th>car_id</th>\n",
       "      <th>car_make</th>\n",
       "      <th>car_model</th>\n",
       "      <th>car_year</th>\n",
       "      <th>car_mileage</th>\n",
       "      <th>car_price</th>\n",
       "      <th>car_transmission</th>\n",
       "      <th>car_driveTrain</th>\n",
       "      <th>car_vendor</th>\n",
       "      <th>car_location</th>\n",
       "    </tr>\n",
       "  </thead>\n",
       "  <tbody>\n",
       "    <tr>\n",
       "      <th>0</th>\n",
       "      <td>73531922</td>\n",
       "      <td>Toyota</td>\n",
       "      <td>Corolla-LE</td>\n",
       "      <td>2015</td>\n",
       "      <td>23036</td>\n",
       "      <td>13298</td>\n",
       "      <td>Automatic</td>\n",
       "      <td>FWD</td>\n",
       "      <td>Chantilly</td>\n",
       "      <td>VA 20151</td>\n",
       "    </tr>\n",
       "    <tr>\n",
       "      <th>1</th>\n",
       "      <td>72354903</td>\n",
       "      <td>Jeep</td>\n",
       "      <td>Wrangler-Unlimted-Sahara</td>\n",
       "      <td>2012</td>\n",
       "      <td>73619</td>\n",
       "      <td>26995</td>\n",
       "      <td>Automatic</td>\n",
       "      <td>4WD</td>\n",
       "      <td>Baltimore</td>\n",
       "      <td>MD 21215</td>\n",
       "    </tr>\n",
       "    <tr>\n",
       "      <th>2</th>\n",
       "      <td>73704666</td>\n",
       "      <td>Honda</td>\n",
       "      <td>Civic-LX</td>\n",
       "      <td>2014</td>\n",
       "      <td>27784</td>\n",
       "      <td>14097</td>\n",
       "      <td>Automatic</td>\n",
       "      <td>FWD</td>\n",
       "      <td>Ellicott City</td>\n",
       "      <td>MD 21043</td>\n",
       "    </tr>\n",
       "    <tr>\n",
       "      <th>3</th>\n",
       "      <td>73566743</td>\n",
       "      <td>Jeep</td>\n",
       "      <td>Grand-Cherokee-Limited</td>\n",
       "      <td>2014</td>\n",
       "      <td>36636</td>\n",
       "      <td>27899</td>\n",
       "      <td>8-Speed Automatic</td>\n",
       "      <td>4WD</td>\n",
       "      <td>Palmyra</td>\n",
       "      <td>PA 17078</td>\n",
       "    </tr>\n",
       "    <tr>\n",
       "      <th>4</th>\n",
       "      <td>73745994</td>\n",
       "      <td>Hyundai</td>\n",
       "      <td>Santa-Fe-Sport-24L</td>\n",
       "      <td>2013</td>\n",
       "      <td>48568</td>\n",
       "      <td>18981</td>\n",
       "      <td>Automatic</td>\n",
       "      <td>AWD</td>\n",
       "      <td>Doylestown</td>\n",
       "      <td>PA 18902</td>\n",
       "    </tr>\n",
       "  </tbody>\n",
       "</table>\n",
       "</div>"
      ],
      "text/plain": [
       "     car_id car_make                 car_model  car_year  car_mileage  \\\n",
       "0  73531922   Toyota                Corolla-LE      2015        23036   \n",
       "1  72354903     Jeep  Wrangler-Unlimted-Sahara      2012        73619   \n",
       "2  73704666    Honda                  Civic-LX      2014        27784   \n",
       "3  73566743     Jeep    Grand-Cherokee-Limited      2014        36636   \n",
       "4  73745994  Hyundai        Santa-Fe-Sport-24L      2013        48568   \n",
       "\n",
       "   car_price   car_transmission car_driveTrain     car_vendor car_location  \n",
       "0      13298          Automatic            FWD      Chantilly     VA 20151  \n",
       "1      26995          Automatic            4WD      Baltimore     MD 21215  \n",
       "2      14097          Automatic            FWD  Ellicott City     MD 21043  \n",
       "3      27899  8-Speed Automatic            4WD        Palmyra     PA 17078  \n",
       "4      18981          Automatic            AWD     Doylestown     PA 18902  "
      ]
     },
     "execution_count": 39,
     "metadata": {},
     "output_type": "execute_result"
    }
   ],
   "source": [
    "Data_Frame = Data_Frame.drop(['car_engine'], axis = 1)\n",
    "Data_Frame.head(5)"
   ]
  },
  {
   "cell_type": "markdown",
   "metadata": {},
   "source": [
    "## Let's take a looke at the shape of the Dataframe"
   ]
  },
  {
   "cell_type": "code",
   "execution_count": 13,
   "metadata": {
    "collapsed": false
   },
   "outputs": [
    {
     "name": "stdout",
     "output_type": "stream",
     "text": [
      "total number of rows 21590\n",
      "total number of columns is now 11\n"
     ]
    }
   ],
   "source": [
    "print('total number of rows', Data_Frame .shape[0])\n",
    "print ('total number of columns is now',Data_Frame .shape[1] )"
   ]
  },
  {
   "cell_type": "markdown",
   "metadata": {},
   "source": [
    "## We can now check if we have got rid all of the missing values completely"
   ]
  },
  {
   "cell_type": "code",
   "execution_count": 14,
   "metadata": {
    "collapsed": false
   },
   "outputs": [
    {
     "name": "stdout",
     "output_type": "stream",
     "text": [
      "The total number of missing values is: 0\n"
     ]
    }
   ],
   "source": [
    "print (\"The total number of missing values is:\", Data_Frame.car_transmission.isnull().sum())"
   ]
  },
  {
   "cell_type": "markdown",
   "metadata": {},
   "source": [
    "##  NOW THAT THE DATA SET IS TOTALY CLEANED, LET'S START STATISCAL ANALYSIS"
   ]
  },
  {
   "cell_type": "markdown",
   "metadata": {},
   "source": [
    "## Any outliers? Let's look for maximum and minimums on car Price¶"
   ]
  },
  {
   "cell_type": "code",
   "execution_count": 15,
   "metadata": {
    "collapsed": false
   },
   "outputs": [
    {
     "data": {
      "text/html": [
       "<div>\n",
       "<table border=\"1\" class=\"dataframe\">\n",
       "  <thead>\n",
       "    <tr style=\"text-align: right;\">\n",
       "      <th></th>\n",
       "      <th>car_year</th>\n",
       "      <th>car_make</th>\n",
       "      <th>car_model</th>\n",
       "      <th>car_mileage</th>\n",
       "      <th>car_price</th>\n",
       "    </tr>\n",
       "  </thead>\n",
       "  <tbody>\n",
       "    <tr>\n",
       "      <th>1149</th>\n",
       "      <td>2000</td>\n",
       "      <td>Honda</td>\n",
       "      <td>Accord</td>\n",
       "      <td>220000</td>\n",
       "      <td>500</td>\n",
       "    </tr>\n",
       "    <tr>\n",
       "      <th>4459</th>\n",
       "      <td>2005</td>\n",
       "      <td>Pontiac</td>\n",
       "      <td>Sunfire</td>\n",
       "      <td>168781</td>\n",
       "      <td>700</td>\n",
       "    </tr>\n",
       "    <tr>\n",
       "      <th>7647</th>\n",
       "      <td>1996</td>\n",
       "      <td>Honda</td>\n",
       "      <td>Accord-LX</td>\n",
       "      <td>263377</td>\n",
       "      <td>999</td>\n",
       "    </tr>\n",
       "    <tr>\n",
       "      <th>9255</th>\n",
       "      <td>2000</td>\n",
       "      <td>Nissan</td>\n",
       "      <td>Maxima-GXE</td>\n",
       "      <td>287944</td>\n",
       "      <td>999</td>\n",
       "    </tr>\n",
       "    <tr>\n",
       "      <th>11453</th>\n",
       "      <td>1999</td>\n",
       "      <td>GMC</td>\n",
       "      <td>S-15-Jimmy-SL</td>\n",
       "      <td>179683</td>\n",
       "      <td>999</td>\n",
       "    </tr>\n",
       "  </tbody>\n",
       "</table>\n",
       "</div>"
      ],
      "text/plain": [
       "       car_year car_make      car_model  car_mileage  car_price\n",
       "1149       2000    Honda         Accord       220000        500\n",
       "4459       2005  Pontiac        Sunfire       168781        700\n",
       "7647       1996    Honda      Accord-LX       263377        999\n",
       "9255       2000   Nissan     Maxima-GXE       287944        999\n",
       "11453      1999      GMC  S-15-Jimmy-SL       179683        999"
      ]
     },
     "execution_count": 15,
     "metadata": {},
     "output_type": "execute_result"
    }
   ],
   "source": [
    "Data_Frame [['car_year', 'car_make','car_model', 'car_mileage','car_price']]\\\n",
    ".sort_values(by='car_price',ascending=True).head(5)"
   ]
  },
  {
   "cell_type": "markdown",
   "metadata": {},
   "source": [
    "### The above table shows that the minimum value on the car price is 500 dolars. the car that is sold at that price a Honda Accord, year 2000, with the total mileage of 220000. While maximum value of the same kind of car is sold at 27,000 dolars (see table below). Thus the price of 500 is about right and cannot be considered as outlier."
   ]
  },
  {
   "cell_type": "code",
   "execution_count": 16,
   "metadata": {
    "collapsed": false
   },
   "outputs": [
    {
     "data": {
      "text/html": [
       "<div>\n",
       "<table border=\"1\" class=\"dataframe\">\n",
       "  <thead>\n",
       "    <tr style=\"text-align: right;\">\n",
       "      <th></th>\n",
       "      <th>car_id</th>\n",
       "      <th>car_make</th>\n",
       "      <th>car_model</th>\n",
       "      <th>car_year</th>\n",
       "      <th>car_mileage</th>\n",
       "      <th>car_price</th>\n",
       "      <th>car_transmission</th>\n",
       "      <th>car_driveTrain</th>\n",
       "      <th>car_vendor</th>\n",
       "      <th>car_location</th>\n",
       "      <th>car_engine</th>\n",
       "    </tr>\n",
       "  </thead>\n",
       "  <tbody>\n",
       "    <tr>\n",
       "      <th>2479</th>\n",
       "      <td>703715164</td>\n",
       "      <td>Honda</td>\n",
       "      <td>Accord</td>\n",
       "      <td>2016</td>\n",
       "      <td>20160</td>\n",
       "      <td>27000</td>\n",
       "      <td>Automatic</td>\n",
       "      <td>FWD</td>\n",
       "      <td>Washington</td>\n",
       "      <td>Washington</td>\n",
       "      <td>NaN</td>\n",
       "    </tr>\n",
       "    <tr>\n",
       "      <th>4310</th>\n",
       "      <td>705348933</td>\n",
       "      <td>Honda</td>\n",
       "      <td>Accord</td>\n",
       "      <td>2016</td>\n",
       "      <td>22648</td>\n",
       "      <td>26900</td>\n",
       "      <td>Automatic</td>\n",
       "      <td>FWD</td>\n",
       "      <td>Bethesda</td>\n",
       "      <td>Bethesda</td>\n",
       "      <td>NaN</td>\n",
       "    </tr>\n",
       "  </tbody>\n",
       "</table>\n",
       "</div>"
      ],
      "text/plain": [
       "         car_id car_make car_model  car_year  car_mileage  car_price  \\\n",
       "2479  703715164    Honda    Accord      2016        20160      27000   \n",
       "4310  705348933    Honda    Accord      2016        22648      26900   \n",
       "\n",
       "     car_transmission car_driveTrain  car_vendor car_location car_engine  \n",
       "2479        Automatic            FWD  Washington   Washington        NaN  \n",
       "4310        Automatic            FWD    Bethesda     Bethesda        NaN  "
      ]
     },
     "execution_count": 16,
     "metadata": {},
     "output_type": "execute_result"
    }
   ],
   "source": [
    "Data_Frame.loc[Data_Frame.car_model == \"Accord\"]\\\n",
    ".sort_values(by='car_price',ascending=False).head(2)"
   ]
  },
  {
   "cell_type": "markdown",
   "metadata": {},
   "source": [
    "###  Let's now look at the maximum price value. "
   ]
  },
  {
   "cell_type": "code",
   "execution_count": 17,
   "metadata": {
    "collapsed": false
   },
   "outputs": [
    {
     "data": {
      "text/html": [
       "<div>\n",
       "<table border=\"1\" class=\"dataframe\">\n",
       "  <thead>\n",
       "    <tr style=\"text-align: right;\">\n",
       "      <th></th>\n",
       "      <th>car_year</th>\n",
       "      <th>car_model</th>\n",
       "      <th>car_make</th>\n",
       "      <th>car_mileage</th>\n",
       "      <th>car_price</th>\n",
       "    </tr>\n",
       "  </thead>\n",
       "  <tbody>\n",
       "    <tr>\n",
       "      <th>12964</th>\n",
       "      <td>2016</td>\n",
       "      <td>488-Spider-Base</td>\n",
       "      <td>Ferrari</td>\n",
       "      <td>832</td>\n",
       "      <td>387995</td>\n",
       "    </tr>\n",
       "    <tr>\n",
       "      <th>13602</th>\n",
       "      <td>2014</td>\n",
       "      <td>Aventador-LP-700-4-Coupe</td>\n",
       "      <td>Lamborghini</td>\n",
       "      <td>15716</td>\n",
       "      <td>349977</td>\n",
       "    </tr>\n",
       "    <tr>\n",
       "      <th>710</th>\n",
       "      <td>2008</td>\n",
       "      <td>Gallardo-Superleggera</td>\n",
       "      <td>Lamborghini</td>\n",
       "      <td>7634</td>\n",
       "      <td>325977</td>\n",
       "    </tr>\n",
       "    <tr>\n",
       "      <th>13522</th>\n",
       "      <td>2014</td>\n",
       "      <td>Wraith</td>\n",
       "      <td>Rolls-Royce</td>\n",
       "      <td>5539</td>\n",
       "      <td>289977</td>\n",
       "    </tr>\n",
       "    <tr>\n",
       "      <th>8806</th>\n",
       "      <td>2014</td>\n",
       "      <td>458-Ilalia</td>\n",
       "      <td>Ferrari</td>\n",
       "      <td>535</td>\n",
       "      <td>269977</td>\n",
       "    </tr>\n",
       "  </tbody>\n",
       "</table>\n",
       "</div>"
      ],
      "text/plain": [
       "       car_year                 car_model     car_make  car_mileage  car_price\n",
       "12964      2016           488-Spider-Base      Ferrari          832     387995\n",
       "13602      2014  Aventador-LP-700-4-Coupe  Lamborghini        15716     349977\n",
       "710        2008     Gallardo-Superleggera  Lamborghini         7634     325977\n",
       "13522      2014                    Wraith  Rolls-Royce         5539     289977\n",
       "8806       2014                458-Ilalia      Ferrari          535     269977"
      ]
     },
     "execution_count": 17,
     "metadata": {},
     "output_type": "execute_result"
    }
   ],
   "source": [
    "Data_Frame [['car_year', 'car_model','car_make', 'car_mileage','car_price']]\\\n",
    ".sort_values(by='car_price',ascending=False).head(5)"
   ]
  },
  {
   "cell_type": "markdown",
   "metadata": {},
   "source": [
    "### The maximum value car_price is 34,9977 and it corresponds to the car make Lamborghini. When we compare all the Lamborghini car pricces (see table below) we notice that price is about right and correspond to mileage, the make, the model and the year. so again here, we cannot see these high price values as outliers."
   ]
  },
  {
   "cell_type": "code",
   "execution_count": 18,
   "metadata": {
    "collapsed": false
   },
   "outputs": [
    {
     "data": {
      "text/html": [
       "<div>\n",
       "<table border=\"1\" class=\"dataframe\">\n",
       "  <thead>\n",
       "    <tr style=\"text-align: right;\">\n",
       "      <th></th>\n",
       "      <th>car_id</th>\n",
       "      <th>car_make</th>\n",
       "      <th>car_model</th>\n",
       "      <th>car_year</th>\n",
       "      <th>car_mileage</th>\n",
       "      <th>car_price</th>\n",
       "      <th>car_transmission</th>\n",
       "      <th>car_driveTrain</th>\n",
       "      <th>car_vendor</th>\n",
       "      <th>car_location</th>\n",
       "      <th>car_engine</th>\n",
       "    </tr>\n",
       "  </thead>\n",
       "  <tbody>\n",
       "    <tr>\n",
       "      <th>13602</th>\n",
       "      <td>66915115</td>\n",
       "      <td>Lamborghini</td>\n",
       "      <td>Aventador-LP-700-4-Coupe</td>\n",
       "      <td>2014</td>\n",
       "      <td>15716</td>\n",
       "      <td>349977</td>\n",
       "      <td>7 Speed Shiftable Automatic</td>\n",
       "      <td>AWD</td>\n",
       "      <td>North Wales</td>\n",
       "      <td>PA 19454</td>\n",
       "      <td>12 Cylinder Engine</td>\n",
       "    </tr>\n",
       "    <tr>\n",
       "      <th>710</th>\n",
       "      <td>73421237</td>\n",
       "      <td>Lamborghini</td>\n",
       "      <td>Gallardo-Superleggera</td>\n",
       "      <td>2008</td>\n",
       "      <td>7634</td>\n",
       "      <td>325977</td>\n",
       "      <td>Automatic</td>\n",
       "      <td>AWD</td>\n",
       "      <td>North Wales</td>\n",
       "      <td>PA 19454</td>\n",
       "      <td>10 Cylinder Engine</td>\n",
       "    </tr>\n",
       "    <tr>\n",
       "      <th>1645</th>\n",
       "      <td>71553159</td>\n",
       "      <td>Lamborghini</td>\n",
       "      <td>Huracan-LP-610-4</td>\n",
       "      <td>2015</td>\n",
       "      <td>13173</td>\n",
       "      <td>259977</td>\n",
       "      <td>Automatic</td>\n",
       "      <td>AWD</td>\n",
       "      <td>North Wales</td>\n",
       "      <td>PA 19454</td>\n",
       "      <td>10 Cylinder Engine</td>\n",
       "    </tr>\n",
       "    <tr>\n",
       "      <th>8722</th>\n",
       "      <td>68798089</td>\n",
       "      <td>Lamborghini</td>\n",
       "      <td>Gallardo-LP-570-4-Spyder-Performante</td>\n",
       "      <td>2011</td>\n",
       "      <td>8715</td>\n",
       "      <td>189977</td>\n",
       "      <td>Automatic</td>\n",
       "      <td>AWD</td>\n",
       "      <td>North Wales</td>\n",
       "      <td>PA 19454</td>\n",
       "      <td>10 Cylinder Engine</td>\n",
       "    </tr>\n",
       "    <tr>\n",
       "      <th>2383</th>\n",
       "      <td>46705848</td>\n",
       "      <td>Lamborghini</td>\n",
       "      <td>Gallardo-Spyder</td>\n",
       "      <td>2007</td>\n",
       "      <td>16383</td>\n",
       "      <td>134577</td>\n",
       "      <td>6 SP SHIFTABLE AUTO</td>\n",
       "      <td>AWD</td>\n",
       "      <td>North Wales</td>\n",
       "      <td>PA 19454</td>\n",
       "      <td>10 Cylinder Engine</td>\n",
       "    </tr>\n",
       "  </tbody>\n",
       "</table>\n",
       "</div>"
      ],
      "text/plain": [
       "         car_id     car_make                             car_model  car_year  \\\n",
       "13602  66915115  Lamborghini              Aventador-LP-700-4-Coupe      2014   \n",
       "710    73421237  Lamborghini                 Gallardo-Superleggera      2008   \n",
       "1645   71553159  Lamborghini                      Huracan-LP-610-4      2015   \n",
       "8722   68798089  Lamborghini  Gallardo-LP-570-4-Spyder-Performante      2011   \n",
       "2383   46705848  Lamborghini                       Gallardo-Spyder      2007   \n",
       "\n",
       "       car_mileage  car_price             car_transmission car_driveTrain  \\\n",
       "13602        15716     349977  7 Speed Shiftable Automatic            AWD   \n",
       "710           7634     325977                    Automatic            AWD   \n",
       "1645         13173     259977                    Automatic            AWD   \n",
       "8722          8715     189977                    Automatic            AWD   \n",
       "2383         16383     134577          6 SP SHIFTABLE AUTO            AWD   \n",
       "\n",
       "        car_vendor car_location          car_engine  \n",
       "13602  North Wales     PA 19454  12 Cylinder Engine  \n",
       "710    North Wales     PA 19454  10 Cylinder Engine  \n",
       "1645   North Wales     PA 19454  10 Cylinder Engine  \n",
       "8722   North Wales     PA 19454  10 Cylinder Engine  \n",
       "2383   North Wales     PA 19454  10 Cylinder Engine  "
      ]
     },
     "execution_count": 18,
     "metadata": {},
     "output_type": "execute_result"
    }
   ],
   "source": [
    "Data_Frame.loc[Data_Frame.car_make == \"Lamborghini\"]\\\n",
    ".sort_values(by='car_price',ascending=False).head(5)"
   ]
  },
  {
   "cell_type": "markdown",
   "metadata": {},
   "source": [
    "### As we can see, the min car price value is 500 dolars. and the maximum value is 387995 dolars. Those values (max and min) make totally sens as that price depends according to dataframe to the car make, car model, car mileage, and car price. so we can admit that there is no outliers upon car price\n",
    "\n",
    "\n",
    "### Any outliers about car mileage?¶"
   ]
  },
  {
   "cell_type": "code",
   "execution_count": 19,
   "metadata": {
    "collapsed": false
   },
   "outputs": [
    {
     "data": {
      "text/html": [
       "<div>\n",
       "<table border=\"1\" class=\"dataframe\">\n",
       "  <thead>\n",
       "    <tr style=\"text-align: right;\">\n",
       "      <th></th>\n",
       "      <th>car_year</th>\n",
       "      <th>car_model</th>\n",
       "      <th>car_make</th>\n",
       "      <th>car_mileage</th>\n",
       "      <th>car_price</th>\n",
       "    </tr>\n",
       "  </thead>\n",
       "  <tbody>\n",
       "    <tr>\n",
       "      <th>1928</th>\n",
       "      <td>2017</td>\n",
       "      <td>Sorento-SX-V6</td>\n",
       "      <td>Kia</td>\n",
       "      <td>-1</td>\n",
       "      <td>38570</td>\n",
       "    </tr>\n",
       "    <tr>\n",
       "      <th>7219</th>\n",
       "      <td>2015</td>\n",
       "      <td>Santa-Fe-Sport-24L</td>\n",
       "      <td>Hyundai</td>\n",
       "      <td>-1</td>\n",
       "      <td>18998</td>\n",
       "    </tr>\n",
       "    <tr>\n",
       "      <th>9163</th>\n",
       "      <td>2010</td>\n",
       "      <td>Legacy-36R-Limited</td>\n",
       "      <td>Subaru</td>\n",
       "      <td>-1</td>\n",
       "      <td>11344</td>\n",
       "    </tr>\n",
       "    <tr>\n",
       "      <th>497</th>\n",
       "      <td>2017</td>\n",
       "      <td>Sorento-LX</td>\n",
       "      <td>Kia</td>\n",
       "      <td>-1</td>\n",
       "      <td>32358</td>\n",
       "    </tr>\n",
       "    <tr>\n",
       "      <th>1268</th>\n",
       "      <td>2002</td>\n",
       "      <td>Jetta-GLS</td>\n",
       "      <td>Volkswagen</td>\n",
       "      <td>-1</td>\n",
       "      <td>2995</td>\n",
       "    </tr>\n",
       "    <tr>\n",
       "      <th>5978</th>\n",
       "      <td>2011</td>\n",
       "      <td>Silverado-1500-LT</td>\n",
       "      <td>Chevrolet</td>\n",
       "      <td>-1</td>\n",
       "      <td>24795</td>\n",
       "    </tr>\n",
       "    <tr>\n",
       "      <th>9152</th>\n",
       "      <td>2016</td>\n",
       "      <td>Forte-Koup-SX</td>\n",
       "      <td>Kia</td>\n",
       "      <td>-1</td>\n",
       "      <td>22660</td>\n",
       "    </tr>\n",
       "    <tr>\n",
       "      <th>9144</th>\n",
       "      <td>2017</td>\n",
       "      <td>Sorento-L</td>\n",
       "      <td>Kia</td>\n",
       "      <td>-1</td>\n",
       "      <td>26382</td>\n",
       "    </tr>\n",
       "    <tr>\n",
       "      <th>3133</th>\n",
       "      <td>2017</td>\n",
       "      <td>Forte-5-Door-SX</td>\n",
       "      <td>Kia</td>\n",
       "      <td>-1</td>\n",
       "      <td>25711</td>\n",
       "    </tr>\n",
       "    <tr>\n",
       "      <th>15247</th>\n",
       "      <td>2017</td>\n",
       "      <td>Rio-Ex</td>\n",
       "      <td>Kia</td>\n",
       "      <td>-1</td>\n",
       "      <td>19020</td>\n",
       "    </tr>\n",
       "    <tr>\n",
       "      <th>3125</th>\n",
       "      <td>2014</td>\n",
       "      <td>Cruze-LS</td>\n",
       "      <td>Chevrolet</td>\n",
       "      <td>-1</td>\n",
       "      <td>11979</td>\n",
       "    </tr>\n",
       "    <tr>\n",
       "      <th>2866</th>\n",
       "      <td>2014</td>\n",
       "      <td>Acadia-SLT-1</td>\n",
       "      <td>GMC</td>\n",
       "      <td>-1</td>\n",
       "      <td>29899</td>\n",
       "    </tr>\n",
       "    <tr>\n",
       "      <th>9106</th>\n",
       "      <td>2017</td>\n",
       "      <td>Sorento-LX</td>\n",
       "      <td>Kia</td>\n",
       "      <td>-1</td>\n",
       "      <td>27859</td>\n",
       "    </tr>\n",
       "    <tr>\n",
       "      <th>16029</th>\n",
       "      <td>2016</td>\n",
       "      <td>Range-Rover-HSE</td>\n",
       "      <td>Land-Rover</td>\n",
       "      <td>-1</td>\n",
       "      <td>83900</td>\n",
       "    </tr>\n",
       "    <tr>\n",
       "      <th>7075</th>\n",
       "      <td>2014</td>\n",
       "      <td>Enclave-Leather</td>\n",
       "      <td>Buick</td>\n",
       "      <td>-1</td>\n",
       "      <td>27499</td>\n",
       "    </tr>\n",
       "    <tr>\n",
       "      <th>5998</th>\n",
       "      <td>2006</td>\n",
       "      <td>E-Class-E350</td>\n",
       "      <td>Mercedes-Benz</td>\n",
       "      <td>-1</td>\n",
       "      <td>8995</td>\n",
       "    </tr>\n",
       "    <tr>\n",
       "      <th>14198</th>\n",
       "      <td>2016</td>\n",
       "      <td>Compass-Sport</td>\n",
       "      <td>Jeep</td>\n",
       "      <td>-1</td>\n",
       "      <td>16998</td>\n",
       "    </tr>\n",
       "    <tr>\n",
       "      <th>132</th>\n",
       "      <td>2014</td>\n",
       "      <td>Cherokee-Latitude</td>\n",
       "      <td>Jeep</td>\n",
       "      <td>-1</td>\n",
       "      <td>16995</td>\n",
       "    </tr>\n",
       "    <tr>\n",
       "      <th>7227</th>\n",
       "      <td>2017</td>\n",
       "      <td>Rio-Ex</td>\n",
       "      <td>Kia</td>\n",
       "      <td>-1</td>\n",
       "      <td>18612</td>\n",
       "    </tr>\n",
       "    <tr>\n",
       "      <th>6534</th>\n",
       "      <td>2006</td>\n",
       "      <td>300</td>\n",
       "      <td>Chrysler</td>\n",
       "      <td>-1</td>\n",
       "      <td>9495</td>\n",
       "    </tr>\n",
       "  </tbody>\n",
       "</table>\n",
       "</div>"
      ],
      "text/plain": [
       "       car_year           car_model       car_make  car_mileage  car_price\n",
       "1928       2017       Sorento-SX-V6            Kia           -1      38570\n",
       "7219       2015  Santa-Fe-Sport-24L        Hyundai           -1      18998\n",
       "9163       2010  Legacy-36R-Limited         Subaru           -1      11344\n",
       "497        2017          Sorento-LX            Kia           -1      32358\n",
       "1268       2002           Jetta-GLS     Volkswagen           -1       2995\n",
       "5978       2011   Silverado-1500-LT      Chevrolet           -1      24795\n",
       "9152       2016       Forte-Koup-SX            Kia           -1      22660\n",
       "9144       2017           Sorento-L            Kia           -1      26382\n",
       "3133       2017     Forte-5-Door-SX            Kia           -1      25711\n",
       "15247      2017              Rio-Ex            Kia           -1      19020\n",
       "3125       2014            Cruze-LS      Chevrolet           -1      11979\n",
       "2866       2014        Acadia-SLT-1            GMC           -1      29899\n",
       "9106       2017          Sorento-LX            Kia           -1      27859\n",
       "16029      2016     Range-Rover-HSE     Land-Rover           -1      83900\n",
       "7075       2014     Enclave-Leather          Buick           -1      27499\n",
       "5998       2006        E-Class-E350  Mercedes-Benz           -1       8995\n",
       "14198      2016       Compass-Sport           Jeep           -1      16998\n",
       "132        2014   Cherokee-Latitude           Jeep           -1      16995\n",
       "7227       2017              Rio-Ex            Kia           -1      18612\n",
       "6534       2006                 300       Chrysler           -1       9495"
      ]
     },
     "execution_count": 19,
     "metadata": {},
     "output_type": "execute_result"
    }
   ],
   "source": [
    "Data_Frame [['car_year', 'car_model','car_make', 'car_mileage','car_price']].sort_values(by='car_mileage',ascending=True).head(20)"
   ]
  },
  {
   "cell_type": "markdown",
   "metadata": {},
   "source": [
    "###    It appears that some -1 values still appearing in the car mileage variable. we are working with used cars only and we are going to consider as outliers, any car whose mileage is less than 1000 miles. In fact a car with less than 1000 miles is basically still a new car."
   ]
  },
  {
   "cell_type": "code",
   "execution_count": 20,
   "metadata": {
    "collapsed": false
   },
   "outputs": [
    {
     "data": {
      "text/plain": [
       "(21268, 11)"
      ]
     },
     "execution_count": 20,
     "metadata": {},
     "output_type": "execute_result"
    }
   ],
   "source": [
    "# Getting rid of all the car with less than 500 miles\n",
    "\n",
    "Data_Frame = Data_Frame [Data_Frame .car_mileage >=1000]\n",
    "Data_Frame.shape"
   ]
  },
  {
   "cell_type": "code",
   "execution_count": 21,
   "metadata": {
    "collapsed": false
   },
   "outputs": [
    {
     "data": {
      "text/html": [
       "<div>\n",
       "<table border=\"1\" class=\"dataframe\">\n",
       "  <thead>\n",
       "    <tr style=\"text-align: right;\">\n",
       "      <th></th>\n",
       "      <th>car_year</th>\n",
       "      <th>car_model</th>\n",
       "      <th>car_make</th>\n",
       "      <th>car_transmission</th>\n",
       "      <th>car_mileage</th>\n",
       "      <th>car_price</th>\n",
       "    </tr>\n",
       "  </thead>\n",
       "  <tbody>\n",
       "    <tr>\n",
       "      <th>14315</th>\n",
       "      <td>2017</td>\n",
       "      <td>Colorado-Work-Truck</td>\n",
       "      <td>Chevrolet</td>\n",
       "      <td>Automatic</td>\n",
       "      <td>1003</td>\n",
       "      <td>27589</td>\n",
       "    </tr>\n",
       "    <tr>\n",
       "      <th>7656</th>\n",
       "      <td>2017</td>\n",
       "      <td>Camry-SE</td>\n",
       "      <td>Toyota</td>\n",
       "      <td>Shiftable Automatic</td>\n",
       "      <td>1018</td>\n",
       "      <td>20321</td>\n",
       "    </tr>\n",
       "    <tr>\n",
       "      <th>8545</th>\n",
       "      <td>2017</td>\n",
       "      <td>Elantra-SE</td>\n",
       "      <td>Hyundai</td>\n",
       "      <td>Automatic</td>\n",
       "      <td>1026</td>\n",
       "      <td>15988</td>\n",
       "    </tr>\n",
       "  </tbody>\n",
       "</table>\n",
       "</div>"
      ],
      "text/plain": [
       "       car_year            car_model   car_make     car_transmission  \\\n",
       "14315      2017  Colorado-Work-Truck  Chevrolet            Automatic   \n",
       "7656       2017             Camry-SE     Toyota  Shiftable Automatic   \n",
       "8545       2017           Elantra-SE    Hyundai            Automatic   \n",
       "\n",
       "       car_mileage  car_price  \n",
       "14315         1003      27589  \n",
       "7656          1018      20321  \n",
       "8545          1026      15988  "
      ]
     },
     "execution_count": 21,
     "metadata": {},
     "output_type": "execute_result"
    }
   ],
   "source": [
    "Data_Frame [['car_year', 'car_model','car_make','car_transmission', 'car_mileage','car_price']]\\\n",
    ".sort_values(by='car_mileage',ascending=True).head(3)"
   ]
  },
  {
   "cell_type": "markdown",
   "metadata": {},
   "source": [
    "### As we can see, the minimum mileage is now 1003. We have got rid of outliers let's stard some basic statistics"
   ]
  },
  {
   "cell_type": "markdown",
   "metadata": {},
   "source": []
  },
  {
   "cell_type": "code",
   "execution_count": 22,
   "metadata": {
    "collapsed": false
   },
   "outputs": [
    {
     "data": {
      "text/html": [
       "<div>\n",
       "<table border=\"1\" class=\"dataframe\">\n",
       "  <thead>\n",
       "    <tr style=\"text-align: right;\">\n",
       "      <th></th>\n",
       "      <th>count</th>\n",
       "      <th>mean</th>\n",
       "      <th>std</th>\n",
       "      <th>min</th>\n",
       "      <th>25%</th>\n",
       "      <th>50%</th>\n",
       "      <th>75%</th>\n",
       "      <th>max</th>\n",
       "    </tr>\n",
       "  </thead>\n",
       "  <tbody>\n",
       "    <tr>\n",
       "      <th>car_mileage</th>\n",
       "      <td>21268.0</td>\n",
       "      <td>43703.652671</td>\n",
       "      <td>34954.357860</td>\n",
       "      <td>1003.0</td>\n",
       "      <td>21493.5</td>\n",
       "      <td>34766.5</td>\n",
       "      <td>54538.75</td>\n",
       "      <td>1321145.0</td>\n",
       "    </tr>\n",
       "    <tr>\n",
       "      <th>car_price</th>\n",
       "      <td>21268.0</td>\n",
       "      <td>22023.216240</td>\n",
       "      <td>14673.613981</td>\n",
       "      <td>500.0</td>\n",
       "      <td>13950.0</td>\n",
       "      <td>18900.0</td>\n",
       "      <td>26590.00</td>\n",
       "      <td>349977.0</td>\n",
       "    </tr>\n",
       "  </tbody>\n",
       "</table>\n",
       "</div>"
      ],
      "text/plain": [
       "               count          mean           std     min      25%      50%  \\\n",
       "car_mileage  21268.0  43703.652671  34954.357860  1003.0  21493.5  34766.5   \n",
       "car_price    21268.0  22023.216240  14673.613981   500.0  13950.0  18900.0   \n",
       "\n",
       "                  75%        max  \n",
       "car_mileage  54538.75  1321145.0  \n",
       "car_price    26590.00   349977.0  "
      ]
     },
     "execution_count": 22,
     "metadata": {},
     "output_type": "execute_result"
    }
   ],
   "source": [
    "# descriptive statistics for the numerical variables\n",
    "Data_Frame[['car_mileage', 'car_price']].describe().T"
   ]
  },
  {
   "cell_type": "markdown",
   "metadata": {},
   "source": [
    "###   The count of 21268 is the number of istances that we have retained for the rest of   this analysis.\n",
    "\n",
    "###   The mean for the car mileage is 43704; which is good as we stick to the fact that our analysis will be based on the used cars only. The mean for the car price is 22023 which is also reasonable.\n",
    "\n",
    "###    The maximum car price is 34,9977 and the min is 500. as we stated above, those values are acceptables\n",
    "\n",
    "###  We can take a better look of each of these aggregates upon each car make (see table below) "
   ]
  },
  {
   "cell_type": "code",
   "execution_count": 23,
   "metadata": {
    "collapsed": false
   },
   "outputs": [
    {
     "data": {
      "text/html": [
       "<div>\n",
       "<table border=\"1\" class=\"dataframe\">\n",
       "  <thead>\n",
       "    <tr style=\"text-align: right;\">\n",
       "      <th></th>\n",
       "      <th>count</th>\n",
       "      <th>mean</th>\n",
       "      <th>max</th>\n",
       "      <th>min</th>\n",
       "      <th>std</th>\n",
       "    </tr>\n",
       "    <tr>\n",
       "      <th>car_make</th>\n",
       "      <th></th>\n",
       "      <th></th>\n",
       "      <th></th>\n",
       "      <th></th>\n",
       "      <th></th>\n",
       "    </tr>\n",
       "  </thead>\n",
       "  <tbody>\n",
       "    <tr>\n",
       "      <th>Acura</th>\n",
       "      <td>509</td>\n",
       "      <td>24926.848723</td>\n",
       "      <td>50342</td>\n",
       "      <td>1900</td>\n",
       "      <td>8837.891253</td>\n",
       "    </tr>\n",
       "    <tr>\n",
       "      <th>Alfa Romeo</th>\n",
       "      <td>1</td>\n",
       "      <td>7500.000000</td>\n",
       "      <td>7500</td>\n",
       "      <td>7500</td>\n",
       "      <td>NaN</td>\n",
       "    </tr>\n",
       "    <tr>\n",
       "      <th>Aston Martin</th>\n",
       "      <td>1</td>\n",
       "      <td>62000.000000</td>\n",
       "      <td>62000</td>\n",
       "      <td>62000</td>\n",
       "      <td>NaN</td>\n",
       "    </tr>\n",
       "    <tr>\n",
       "      <th>Aston-Martin</th>\n",
       "      <td>9</td>\n",
       "      <td>105619.888889</td>\n",
       "      <td>217990</td>\n",
       "      <td>49911</td>\n",
       "      <td>53212.669165</td>\n",
       "    </tr>\n",
       "    <tr>\n",
       "      <th>Audi</th>\n",
       "      <td>454</td>\n",
       "      <td>35694.808370</td>\n",
       "      <td>159000</td>\n",
       "      <td>4990</td>\n",
       "      <td>20625.852447</td>\n",
       "    </tr>\n",
       "  </tbody>\n",
       "</table>\n",
       "</div>"
      ],
      "text/plain": [
       "              count           mean     max    min           std\n",
       "car_make                                                       \n",
       "Acura           509   24926.848723   50342   1900   8837.891253\n",
       "Alfa Romeo        1    7500.000000    7500   7500           NaN\n",
       "Aston Martin      1   62000.000000   62000  62000           NaN\n",
       "Aston-Martin      9  105619.888889  217990  49911  53212.669165\n",
       "Audi            454   35694.808370  159000   4990  20625.852447"
      ]
     },
     "execution_count": 23,
     "metadata": {},
     "output_type": "execute_result"
    }
   ],
   "source": [
    "Data_Frame.groupby(['car_make'])\\\n",
    ".car_price.agg(['count', 'mean', 'max', 'min','std']).head(5)"
   ]
  },
  {
   "cell_type": "markdown",
   "metadata": {},
   "source": [
    "###  Let's now start analyzing how variables are related. first we need to know what kind of data types we have"
   ]
  },
  {
   "cell_type": "code",
   "execution_count": null,
   "metadata": {
    "collapsed": false
   },
   "outputs": [],
   "source": []
  },
  {
   "cell_type": "code",
   "execution_count": 37,
   "metadata": {
    "collapsed": false
   },
   "outputs": [
    {
     "data": {
      "text/plain": [
       "car_id               int64\n",
       "car_make            object\n",
       "car_model           object\n",
       "car_year             int64\n",
       "car_mileage          int64\n",
       "car_price            int64\n",
       "car_transmission    object\n",
       "car_driveTrain      object\n",
       "car_vendor          object\n",
       "car_location        object\n",
       "car_engine          object\n",
       "dtype: object"
      ]
     },
     "execution_count": 37,
     "metadata": {},
     "output_type": "execute_result"
    }
   ],
   "source": [
    "Data_Frame.dtypes"
   ]
  },
  {
   "cell_type": "markdown",
   "metadata": {},
   "source": [
    "###   It appears that most variables in this dataset are \"object\". only \"car_year\", \"car_mileage\", \"car_price\" are integers. "
   ]
  },
  {
   "cell_type": "markdown",
   "metadata": {},
   "source": [
    "#              Step 1: variables selection\n",
    "\n",
    "   This work is based on the ASSUMPTION  that THE USED CAR PRICE IS RELATED TO SOME AGGREGATES LIKE CAR MILEAGE, CAR YEAR, CAR MAKE AND MODEL. \n",
    "   GIVEN THAT ASSUMPTION WE WANT TO BUILD A MODEL THAT PREDICT THE CAR PRICE. WE HAVE THEREFORE SELECTED THE PRIDICTED VARIABLES AND THE TARGET VARIABLE BASED ON THAT SAME ASUMPTION.\n",
    "\n",
    "####      Predicted variables ( X):    car_mileage, car_year, car_make, car_transmission\n",
    "####      Target variable (Y):   car_price\n",
    "\n",
    "####      We need to transform some categorigal variables to numericals. we create a dictionary and the comand \"replace\n"
   ]
  },
  {
   "cell_type": "code",
   "execution_count": 38,
   "metadata": {
    "collapsed": true
   },
   "outputs": [],
   "source": [
    " num_var = {\"car_make\": {\"Ford\": 0, \"Chevrolet\": 1,\"Hyundai\": 2,\"Cadillac\":24,\"smart\":25, \"Volvo\":26,\"Triumph\":27,\"Tesla\":28, \n",
    "                        \"Toyota\": 3,\"Honda\": 4, \"Nissan\": 5, \"Jeep\":6,\"Acura\":22,\"Subaru\":29,\"Scion\":30,\"Saturn\":31,\n",
    "                         \"BWM\": 7, \"Dodge\":8,\"Mitsubishi\":9, \"Chrysler\":10,\"Subaru\":23,\"Saab\":32, \"Porsche\":33,\"Pontiac\":34,\n",
    "                         \"INFINITI\": 11, \"Infiniti\":11, \"RAM\":12, \"Lexus\":13, \"MINI\":14,\n",
    "                        \"Audi\":15, \"Buick\":16, \"GMC\":17,\"Lincoln\":18,\"Mazda\":19,\"Kia\":20, \"Volkswagen\":21,}, \n",
    "                \"car_transmission\": {\"Automatic\": 1, \"A\": 1,\"8-Speed Shiftable Automatic\":0,\"NaN\":0,\n",
    "                                    \"Shiftable Automatic\":1,\"AUTO\":1, \"AUTOMATIC\": 1,\"Dual Shift Gearbox\":0,\n",
    "                                     \"6-Speed Shiftable Automatic\":0,\"8-Speed Automatic\":0,\"Not Specified\":0,\"CVT\":0,\n",
    "                                     \"6-Speed Automatic\":0, \"6 SP SHIFTABLE AUTO\":0,\"5-Speed Automatic\":0,\"NaN\":0,\n",
    "                                     \"4-Speed Automatic\":0, \"Variable\": 0, \"9-Speed Shiftable Automatic\":0, \"Automatic CVT\":1}}"
   ]
  },
  {
   "cell_type": "code",
   "execution_count": 39,
   "metadata": {
    "collapsed": false
   },
   "outputs": [
    {
     "data": {
      "text/html": [
       "<div>\n",
       "<table border=\"1\" class=\"dataframe\">\n",
       "  <thead>\n",
       "    <tr style=\"text-align: right;\">\n",
       "      <th></th>\n",
       "      <th>car_id</th>\n",
       "      <th>car_make</th>\n",
       "      <th>car_model</th>\n",
       "      <th>car_year</th>\n",
       "      <th>car_mileage</th>\n",
       "      <th>car_price</th>\n",
       "      <th>car_transmission</th>\n",
       "      <th>car_driveTrain</th>\n",
       "      <th>car_vendor</th>\n",
       "      <th>car_location</th>\n",
       "      <th>car_engine</th>\n",
       "    </tr>\n",
       "  </thead>\n",
       "  <tbody>\n",
       "    <tr>\n",
       "      <th>4546</th>\n",
       "      <td>705104522</td>\n",
       "      <td>BMW</td>\n",
       "      <td>Z4</td>\n",
       "      <td>2011</td>\n",
       "      <td>44735</td>\n",
       "      <td>22900</td>\n",
       "      <td>1</td>\n",
       "      <td>FWD</td>\n",
       "      <td>Suitland</td>\n",
       "      <td>Suitland</td>\n",
       "      <td>NaN</td>\n",
       "    </tr>\n",
       "    <tr>\n",
       "      <th>4547</th>\n",
       "      <td>705039503</td>\n",
       "      <td>0</td>\n",
       "      <td>Fusion</td>\n",
       "      <td>2016</td>\n",
       "      <td>45550</td>\n",
       "      <td>14000</td>\n",
       "      <td>1</td>\n",
       "      <td>FWD</td>\n",
       "      <td>Suitland</td>\n",
       "      <td>Suitland</td>\n",
       "      <td>NaN</td>\n",
       "    </tr>\n",
       "    <tr>\n",
       "      <th>4548</th>\n",
       "      <td>701247346</td>\n",
       "      <td>5</td>\n",
       "      <td>Maxima</td>\n",
       "      <td>2014</td>\n",
       "      <td>48265</td>\n",
       "      <td>18999</td>\n",
       "      <td>1</td>\n",
       "      <td>FWD</td>\n",
       "      <td>Suitland</td>\n",
       "      <td>Suitland</td>\n",
       "      <td>NaN</td>\n",
       "    </tr>\n",
       "    <tr>\n",
       "      <th>4549</th>\n",
       "      <td>698122820</td>\n",
       "      <td>5</td>\n",
       "      <td>Rogue</td>\n",
       "      <td>2012</td>\n",
       "      <td>49232</td>\n",
       "      <td>12999</td>\n",
       "      <td>1</td>\n",
       "      <td>FWD</td>\n",
       "      <td>Suitland</td>\n",
       "      <td>Suitland</td>\n",
       "      <td>NaN</td>\n",
       "    </tr>\n",
       "    <tr>\n",
       "      <th>4550</th>\n",
       "      <td>700192874</td>\n",
       "      <td>5</td>\n",
       "      <td>Murano</td>\n",
       "      <td>2014</td>\n",
       "      <td>49456</td>\n",
       "      <td>16999</td>\n",
       "      <td>1</td>\n",
       "      <td>FWD</td>\n",
       "      <td>Suitland</td>\n",
       "      <td>Suitland</td>\n",
       "      <td>NaN</td>\n",
       "    </tr>\n",
       "  </tbody>\n",
       "</table>\n",
       "</div>"
      ],
      "text/plain": [
       "         car_id car_make car_model  car_year  car_mileage  car_price  \\\n",
       "4546  705104522      BMW        Z4      2011        44735      22900   \n",
       "4547  705039503        0    Fusion      2016        45550      14000   \n",
       "4548  701247346        5    Maxima      2014        48265      18999   \n",
       "4549  698122820        5     Rogue      2012        49232      12999   \n",
       "4550  700192874        5    Murano      2014        49456      16999   \n",
       "\n",
       "     car_transmission car_driveTrain car_vendor car_location car_engine  \n",
       "4546                1            FWD   Suitland     Suitland        NaN  \n",
       "4547                1            FWD   Suitland     Suitland        NaN  \n",
       "4548                1            FWD   Suitland     Suitland        NaN  \n",
       "4549                1            FWD   Suitland     Suitland        NaN  \n",
       "4550                1            FWD   Suitland     Suitland        NaN  "
      ]
     },
     "execution_count": 39,
     "metadata": {},
     "output_type": "execute_result"
    }
   ],
   "source": [
    "Data_Frame.replace(num_var, inplace=True)\n",
    "Data_Frame.tail(5)"
   ]
  },
  {
   "cell_type": "code",
   "execution_count": null,
   "metadata": {
    "collapsed": false
   },
   "outputs": [],
   "source": []
  },
  {
   "cell_type": "markdown",
   "metadata": {},
   "source": [
    "#         Step 2: \n",
    "\n",
    "##        Pearson correlation to check correlation  among variables"
   ]
  },
  {
   "cell_type": "code",
   "execution_count": 27,
   "metadata": {
    "collapsed": false
   },
   "outputs": [
    {
     "data": {
      "text/html": [
       "<div>\n",
       "<table border=\"1\" class=\"dataframe\">\n",
       "  <thead>\n",
       "    <tr style=\"text-align: right;\">\n",
       "      <th></th>\n",
       "      <th>car_year</th>\n",
       "      <th>car_mileage</th>\n",
       "      <th>car_price</th>\n",
       "    </tr>\n",
       "  </thead>\n",
       "  <tbody>\n",
       "    <tr>\n",
       "      <th>car_year</th>\n",
       "      <td>1.000000</td>\n",
       "      <td>-0.671298</td>\n",
       "      <td>0.233844</td>\n",
       "    </tr>\n",
       "    <tr>\n",
       "      <th>car_mileage</th>\n",
       "      <td>-0.671298</td>\n",
       "      <td>1.000000</td>\n",
       "      <td>-0.370578</td>\n",
       "    </tr>\n",
       "    <tr>\n",
       "      <th>car_price</th>\n",
       "      <td>0.233844</td>\n",
       "      <td>-0.370578</td>\n",
       "      <td>1.000000</td>\n",
       "    </tr>\n",
       "  </tbody>\n",
       "</table>\n",
       "</div>"
      ],
      "text/plain": [
       "             car_year  car_mileage  car_price\n",
       "car_year     1.000000    -0.671298   0.233844\n",
       "car_mileage -0.671298     1.000000  -0.370578\n",
       "car_price    0.233844    -0.370578   1.000000"
      ]
     },
     "execution_count": 27,
     "metadata": {},
     "output_type": "execute_result"
    }
   ],
   "source": [
    "# We can run pearson correlation matrix to see how variables are correlated\n",
    "Data_Frame[['car_year', 'car_mileage', 'car_price','car_make']].corr()"
   ]
  },
  {
   "cell_type": "markdown",
   "metadata": {},
   "source": [
    "    From this table we can notice that the coefficient of correlation between car price is negative -0.37) and is is not strong enough. the coefficient of correlation between car year and car price is positive (0.234) and is not strong enough neither. From these weak observations observed, we can assume that the car price is correlated to those two variables, but not in the very strong way. There must be some other features that impact the car price. this can be confirm with the following regression fit line"
   ]
  },
  {
   "cell_type": "markdown",
   "metadata": {
    "collapsed": false
   },
   "source": [
    "#  Linear Regression in Statsmodels\n",
    "\n",
    "###  How well does the linear model fit the data?"
   ]
  },
  {
   "cell_type": "code",
   "execution_count": 41,
   "metadata": {
    "collapsed": false
   },
   "outputs": [
    {
     "data": {
      "text/plain": [
       "<seaborn.axisgrid.PairGrid at 0x2f8dea4ac50>"
      ]
     },
     "execution_count": 41,
     "metadata": {},
     "output_type": "execute_result"
    },
    {
     "data": {
      "image/png": "[encoded data removed]",
      "text/plain": [
       "<matplotlib.figure.Figure at 0x2f8dea4aeb8>"
      ]
     },
     "metadata": {},
     "output_type": "display_data"
    }
   ],
   "source": [
    "sns.pairplot(Data_Frame, x_vars=['car_mileage', 'car_year']\\\n",
    "             , y_vars = 'car_price', size = 7, aspect =0.7, kind = 'reg')"
   ]
  },
  {
   "cell_type": "markdown",
   "metadata": {},
   "source": [
    "##  As we can see, the model does not fit the model at all. we can start now assuming that the linear model is not the good one for our data\n"
   ]
  },
  {
   "cell_type": "code",
   "execution_count": 30,
   "metadata": {
    "collapsed": false
   },
   "outputs": [
    {
     "data": {
      "text/html": [
       "<table class=\"simpletable\">\n",
       "<caption>OLS Regression Results</caption>\n",
       "<tr>\n",
       "  <th>Dep. Variable:</th>        <td>car_price</td>    <th>  R-squared:         </th>  <td>   0.137</td>  \n",
       "</tr>\n",
       "<tr>\n",
       "  <th>Model:</th>                   <td>OLS</td>       <th>  Adj. R-squared:    </th>  <td>   0.137</td>  \n",
       "</tr>\n",
       "<tr>\n",
       "  <th>Method:</th>             <td>Least Squares</td>  <th>  F-statistic:       </th>  <td>   3385.</td>  \n",
       "</tr>\n",
       "<tr>\n",
       "  <th>Date:</th>             <td>Wed, 23 Aug 2017</td> <th>  Prob (F-statistic):</th>   <td>  0.00</td>   \n",
       "</tr>\n",
       "<tr>\n",
       "  <th>Time:</th>                 <td>23:28:41</td>     <th>  Log-Likelihood:    </th> <td>-2.3265e+05</td>\n",
       "</tr>\n",
       "<tr>\n",
       "  <th>No. Observations:</th>      <td> 21268</td>      <th>  AIC:               </th>  <td>4.653e+05</td> \n",
       "</tr>\n",
       "<tr>\n",
       "  <th>Df Residuals:</th>          <td> 21266</td>      <th>  BIC:               </th>  <td>4.653e+05</td> \n",
       "</tr>\n",
       "<tr>\n",
       "  <th>Df Model:</th>              <td>     1</td>      <th>                     </th>      <td> </td>     \n",
       "</tr>\n",
       "<tr>\n",
       "  <th>Covariance Type:</th>      <td>nonrobust</td>    <th>                     </th>      <td> </td>     \n",
       "</tr>\n",
       "</table>\n",
       "<table class=\"simpletable\">\n",
       "<tr>\n",
       "       <td></td>          <th>coef</th>     <th>std err</th>      <th>t</th>      <th>P>|t|</th> <th>[95.0% Conf. Int.]</th> \n",
       "</tr>\n",
       "<tr>\n",
       "  <th>const</th>       <td> 2.882e+04</td> <td>  149.627</td> <td>  192.626</td> <td> 0.000</td> <td> 2.85e+04  2.91e+04</td>\n",
       "</tr>\n",
       "<tr>\n",
       "  <th>car_mileage</th> <td>   -0.1556</td> <td>    0.003</td> <td>  -58.184</td> <td> 0.000</td> <td>   -0.161    -0.150</td>\n",
       "</tr>\n",
       "</table>\n",
       "<table class=\"simpletable\">\n",
       "<tr>\n",
       "  <th>Omnibus:</th>       <td>24179.570</td> <th>  Durbin-Watson:     </th>  <td>   1.856</td>  \n",
       "</tr>\n",
       "<tr>\n",
       "  <th>Prob(Omnibus):</th>  <td> 0.000</td>   <th>  Jarque-Bera (JB):  </th> <td>4600921.848</td>\n",
       "</tr>\n",
       "<tr>\n",
       "  <th>Skew:</th>           <td> 5.682</td>   <th>  Prob(JB):          </th>  <td>    0.00</td>  \n",
       "</tr>\n",
       "<tr>\n",
       "  <th>Kurtosis:</th>       <td>74.153</td>   <th>  Cond. No.          </th>  <td>8.96e+04</td>  \n",
       "</tr>\n",
       "</table>"
      ],
      "text/plain": [
       "<class 'statsmodels.iolib.summary.Summary'>\n",
       "\"\"\"\n",
       "                            OLS Regression Results                            \n",
       "==============================================================================\n",
       "Dep. Variable:              car_price   R-squared:                       0.137\n",
       "Model:                            OLS   Adj. R-squared:                  0.137\n",
       "Method:                 Least Squares   F-statistic:                     3385.\n",
       "Date:                Wed, 23 Aug 2017   Prob (F-statistic):               0.00\n",
       "Time:                        23:28:41   Log-Likelihood:            -2.3265e+05\n",
       "No. Observations:               21268   AIC:                         4.653e+05\n",
       "Df Residuals:                   21266   BIC:                         4.653e+05\n",
       "Df Model:                           1                                         \n",
       "Covariance Type:            nonrobust                                         \n",
       "===============================================================================\n",
       "                  coef    std err          t      P>|t|      [95.0% Conf. Int.]\n",
       "-------------------------------------------------------------------------------\n",
       "const        2.882e+04    149.627    192.626      0.000      2.85e+04  2.91e+04\n",
       "car_mileage    -0.1556      0.003    -58.184      0.000        -0.161    -0.150\n",
       "==============================================================================\n",
       "Omnibus:                    24179.570   Durbin-Watson:                   1.856\n",
       "Prob(Omnibus):                  0.000   Jarque-Bera (JB):          4600921.848\n",
       "Skew:                           5.682   Prob(JB):                         0.00\n",
       "Kurtosis:                      74.153   Cond. No.                     8.96e+04\n",
       "==============================================================================\n",
       "\n",
       "Warnings:\n",
       "[1] Standard Errors assume that the covariance matrix of the errors is correctly specified.\n",
       "[2] The condition number is large, 8.96e+04. This might indicate that there are\n",
       "strong multicollinearity or other numerical problems.\n",
       "\"\"\""
      ]
     },
     "execution_count": 30,
     "metadata": {},
     "output_type": "execute_result"
    }
   ],
   "source": [
    "import statsmodels.api as sm # import statsmodels \n",
    "\n",
    "target = pd.DataFrame(Data_Frame.car_price, columns=[\"car_price\"])\n",
    "X = Data_Frame[\"car_mileage\"] ## X usually means our input variables (or independent variables)\n",
    "y = target[\"car_price\"] ## Y usually means our output/dependent variable\n",
    "X = sm.add_constant(X) ## let's add an intercept (beta_0) to our model\n",
    "\n",
    "# Note the difference in argument order\n",
    "model = sm.OLS(y, X).fit() ## sm.OLS(output, input)\n",
    "predictions = model.predict(X)\n",
    "\n",
    "# Print out the statistics\n",
    "model.summary()"
   ]
  },
  {
   "cell_type": "markdown",
   "metadata": {},
   "source": [
    "##  let’s try fitting a regression model with  one variable  "
   ]
  },
  {
   "cell_type": "markdown",
   "metadata": {
    "collapsed": true
   },
   "source": [
    "Remarqs about the table: \n",
    "\n",
    "* OLS stands for Ordinary Least Squares. \n",
    "* The method “Least Squares” means that we are fitting a regression line that would minimize the square of distance from the regression line. \n",
    "* 21268 is the number of observations. \n",
    "* Df residuals and models relates to the degrees of freedom — “the number of values in the final calculation of a statistic that are free to vary.”\n",
    "\n",
    "* The coefficient of -0.1556 means that as car_price variable increases by 1, the predicted value of car_mileage increases by -0.1556. A few other important values are the R-squared — the percentage of variance our model explains; the standard error (is the standard deviation of the sampling distribution of a statistic, most commonly of the mean); the t scores and p-values, for hypothesis test — the RM has statistically significant p-value; there is a 95% confidence intervals for the RM (meaning we predict at a 95% percent confidence that the value of car_price is between -0.161 and -0.150)."
   ]
  },
  {
   "cell_type": "markdown",
   "metadata": {
    "collapsed": false
   },
   "source": [
    "###  Now let’s try fitting a regression model with more than one variable  ( Model fitting is the same)"
   ]
  },
  {
   "cell_type": "code",
   "execution_count": 31,
   "metadata": {
    "collapsed": false
   },
   "outputs": [
    {
     "data": {
      "text/html": [
       "<table class=\"simpletable\">\n",
       "<caption>OLS Regression Results</caption>\n",
       "<tr>\n",
       "  <th>Dep. Variable:</th>        <td>car_price</td>    <th>  R-squared:         </th>  <td>   0.735</td>  \n",
       "</tr>\n",
       "<tr>\n",
       "  <th>Model:</th>                   <td>OLS</td>       <th>  Adj. R-squared:    </th>  <td>   0.735</td>  \n",
       "</tr>\n",
       "<tr>\n",
       "  <th>Method:</th>             <td>Least Squares</td>  <th>  F-statistic:       </th>  <td>2.945e+04</td> \n",
       "</tr>\n",
       "<tr>\n",
       "  <th>Date:</th>             <td>Wed, 23 Aug 2017</td> <th>  Prob (F-statistic):</th>   <td>  0.00</td>   \n",
       "</tr>\n",
       "<tr>\n",
       "  <th>Time:</th>                 <td>23:28:50</td>     <th>  Log-Likelihood:    </th> <td>-2.3265e+05</td>\n",
       "</tr>\n",
       "<tr>\n",
       "  <th>No. Observations:</th>      <td> 21268</td>      <th>  AIC:               </th>  <td>4.653e+05</td> \n",
       "</tr>\n",
       "<tr>\n",
       "  <th>Df Residuals:</th>          <td> 21266</td>      <th>  BIC:               </th>  <td>4.653e+05</td> \n",
       "</tr>\n",
       "<tr>\n",
       "  <th>Df Model:</th>              <td>     2</td>      <th>                     </th>      <td> </td>     \n",
       "</tr>\n",
       "<tr>\n",
       "  <th>Covariance Type:</th>      <td>nonrobust</td>    <th>                     </th>      <td> </td>     \n",
       "</tr>\n",
       "</table>\n",
       "<table class=\"simpletable\">\n",
       "<tr>\n",
       "       <td></td>          <th>coef</th>     <th>std err</th>      <th>t</th>      <th>P>|t|</th> <th>[95.0% Conf. Int.]</th> \n",
       "</tr>\n",
       "<tr>\n",
       "  <th>car_mileage</th> <td>   -0.1546</td> <td>    0.003</td> <td>  -57.916</td> <td> 0.000</td> <td>   -0.160    -0.149</td>\n",
       "</tr>\n",
       "<tr>\n",
       "  <th>car_year</th>    <td>   14.2959</td> <td>    0.074</td> <td>  192.608</td> <td> 0.000</td> <td>   14.150    14.441</td>\n",
       "</tr>\n",
       "</table>\n",
       "<table class=\"simpletable\">\n",
       "<tr>\n",
       "  <th>Omnibus:</th>       <td>24185.077</td> <th>  Durbin-Watson:     </th>  <td>   1.856</td>  \n",
       "</tr>\n",
       "<tr>\n",
       "  <th>Prob(Omnibus):</th>  <td> 0.000</td>   <th>  Jarque-Bera (JB):  </th> <td>4602753.873</td>\n",
       "</tr>\n",
       "<tr>\n",
       "  <th>Skew:</th>           <td> 5.684</td>   <th>  Prob(JB):          </th>  <td>    0.00</td>  \n",
       "</tr>\n",
       "<tr>\n",
       "  <th>Kurtosis:</th>       <td>74.167</td>   <th>  Cond. No.          </th>  <td>    44.5</td>  \n",
       "</tr>\n",
       "</table>"
      ],
      "text/plain": [
       "<class 'statsmodels.iolib.summary.Summary'>\n",
       "\"\"\"\n",
       "                            OLS Regression Results                            \n",
       "==============================================================================\n",
       "Dep. Variable:              car_price   R-squared:                       0.735\n",
       "Model:                            OLS   Adj. R-squared:                  0.735\n",
       "Method:                 Least Squares   F-statistic:                 2.945e+04\n",
       "Date:                Wed, 23 Aug 2017   Prob (F-statistic):               0.00\n",
       "Time:                        23:28:50   Log-Likelihood:            -2.3265e+05\n",
       "No. Observations:               21268   AIC:                         4.653e+05\n",
       "Df Residuals:                   21266   BIC:                         4.653e+05\n",
       "Df Model:                           2                                         \n",
       "Covariance Type:            nonrobust                                         \n",
       "===============================================================================\n",
       "                  coef    std err          t      P>|t|      [95.0% Conf. Int.]\n",
       "-------------------------------------------------------------------------------\n",
       "car_mileage    -0.1546      0.003    -57.916      0.000        -0.160    -0.149\n",
       "car_year       14.2959      0.074    192.608      0.000        14.150    14.441\n",
       "==============================================================================\n",
       "Omnibus:                    24185.077   Durbin-Watson:                   1.856\n",
       "Prob(Omnibus):                  0.000   Jarque-Bera (JB):          4602753.873\n",
       "Skew:                           5.684   Prob(JB):                         0.00\n",
       "Kurtosis:                      74.167   Cond. No.                         44.5\n",
       "==============================================================================\n",
       "\n",
       "Warnings:\n",
       "[1] Standard Errors assume that the covariance matrix of the errors is correctly specified.\n",
       "\"\"\""
      ]
     },
     "execution_count": 31,
     "metadata": {},
     "output_type": "execute_result"
    }
   ],
   "source": [
    "X = Data_Frame[[\"car_mileage\", \"car_year\"]]\n",
    "y = target[\"car_price\"]\n",
    "model = sm.OLS(y, X).fit()\n",
    "predictions = model.predict(X)\n",
    "model.summary()"
   ]
  },
  {
   "cell_type": "markdown",
   "metadata": {},
   "source": [
    "###  Here, the model has a much higher R-squared value — 0.735 , meaning that this model explains about 74% of the variance in our dependent variable.  In fact cat_year and car_mileage are statistically significant in predicting (or estimating) the median car_price; not surprisingly , we see that as car_mileage decreases by 1, car_price  will increase by ... "
   ]
  },
  {
   "cell_type": "markdown",
   "metadata": {},
   "source": [
    "##  HYpothesis Testing and P-value"
   ]
  },
  {
   "cell_type": "code",
   "execution_count": 83,
   "metadata": {
    "collapsed": false
   },
   "outputs": [
    {
     "data": {
      "text/plain": [
       "car_mileage    0.0\n",
       "car_year       0.0\n",
       "dtype: float64"
      ]
     },
     "execution_count": 83,
     "metadata": {},
     "output_type": "execute_result"
    }
   ],
   "source": [
    "## Pvalue \n",
    "\n",
    "model.pvalues"
   ]
  },
  {
   "cell_type": "code",
   "execution_count": null,
   "metadata": {
    "collapsed": true
   },
   "outputs": [],
   "source": [
    "    "
   ]
  },
  {
   "cell_type": "markdown",
   "metadata": {},
   "source": [
    "# Linear Regression in Scikit-Learn"
   ]
  },
  {
   "cell_type": "markdown",
   "metadata": {
    "collapsed": false
   },
   "source": [
    "We need to fit a linear regression model and predict the used car prices using \n",
    "the least squares method as the way to estimate the coefficients.\n",
    "\n",
    "Y = target (car_price)\n",
    "X = Predictive variables (car_year, car_mileage, car_transmission, car_make)"
   ]
  },
  {
   "cell_type": "code",
   "execution_count": 52,
   "metadata": {
    "collapsed": false
   },
   "outputs": [
    {
     "data": {
      "text/html": [
       "<div>\n",
       "<table border=\"1\" class=\"dataframe\">\n",
       "  <thead>\n",
       "    <tr style=\"text-align: right;\">\n",
       "      <th></th>\n",
       "      <th>car_mileage</th>\n",
       "      <th>car_year</th>\n",
       "    </tr>\n",
       "  </thead>\n",
       "  <tbody>\n",
       "    <tr>\n",
       "      <th>0</th>\n",
       "      <td>23036</td>\n",
       "      <td>2015</td>\n",
       "    </tr>\n",
       "    <tr>\n",
       "      <th>1</th>\n",
       "      <td>73619</td>\n",
       "      <td>2012</td>\n",
       "    </tr>\n",
       "    <tr>\n",
       "      <th>2</th>\n",
       "      <td>27784</td>\n",
       "      <td>2014</td>\n",
       "    </tr>\n",
       "    <tr>\n",
       "      <th>3</th>\n",
       "      <td>36636</td>\n",
       "      <td>2014</td>\n",
       "    </tr>\n",
       "    <tr>\n",
       "      <th>4</th>\n",
       "      <td>48568</td>\n",
       "      <td>2013</td>\n",
       "    </tr>\n",
       "  </tbody>\n",
       "</table>\n",
       "</div>"
      ],
      "text/plain": [
       "   car_mileage  car_year\n",
       "0        23036      2015\n",
       "1        73619      2012\n",
       "2        27784      2014\n",
       "3        36636      2014\n",
       "4        48568      2013"
      ]
     },
     "execution_count": 52,
     "metadata": {},
     "output_type": "execute_result"
    }
   ],
   "source": [
    "# Create a python list of  predective features names\n",
    "feature_cols = ['car_mileage', 'car_year']\n",
    "\n",
    "# use a list to select a subset of the original DataFrame\n",
    "X = Data_Frame[feature_cols]\n",
    "\n",
    "# We can do these two steppes in one line with the following code:\n",
    "#      X = Data_Frame[['car_mileage', 'car_year']]\n",
    "\n",
    "# print the first five rows\n",
    "X.head()"
   ]
  },
  {
   "cell_type": "code",
   "execution_count": 53,
   "metadata": {
    "collapsed": false
   },
   "outputs": [
    {
     "name": "stdout",
     "output_type": "stream",
     "text": [
      "<class 'pandas.core.frame.DataFrame'>\n",
      "(21268, 2)\n"
     ]
    }
   ],
   "source": [
    "# check the type and shape of x\n",
    "print (type(X))\n",
    "print (X.shape)"
   ]
  },
  {
   "cell_type": "code",
   "execution_count": 54,
   "metadata": {
    "collapsed": false
   },
   "outputs": [
    {
     "data": {
      "text/plain": [
       "0    13298\n",
       "1    26995\n",
       "2    14097\n",
       "3    27899\n",
       "4    18981\n",
       "Name: car_price, dtype: int64"
      ]
     },
     "execution_count": 54,
     "metadata": {},
     "output_type": "execute_result"
    }
   ],
   "source": [
    "# now we select a serie Y from the data frame (Y is the target feature)\n",
    "Y = Data_Frame['car_price']\n",
    "\n",
    "## we could have done also Y= data_Frame.car_price\n",
    "\n",
    "# print the first 5 rows\n",
    "Y.head(5)"
   ]
  },
  {
   "cell_type": "code",
   "execution_count": 55,
   "metadata": {
    "collapsed": false
   },
   "outputs": [
    {
     "name": "stdout",
     "output_type": "stream",
     "text": [
      "<class 'pandas.core.series.Series'>\n",
      "(21268,)\n"
     ]
    }
   ],
   "source": [
    "# check the type and shape of Y\n",
    "print (type(Y))\n",
    "print (Y.shape)"
   ]
  },
  {
   "cell_type": "markdown",
   "metadata": {},
   "source": [
    "##  Splitting X and Y into training and testing sets"
   ]
  },
  {
   "cell_type": "code",
   "execution_count": 68,
   "metadata": {
    "collapsed": false
   },
   "outputs": [],
   "source": [
    "from sklearn.cross_validation import train_test_split\n",
    "X_train, Y_train, X_test, Y_test = train_test_split(X, Y, random_state = 1)"
   ]
  },
  {
   "cell_type": "code",
   "execution_count": 69,
   "metadata": {
    "collapsed": false
   },
   "outputs": [
    {
     "name": "stdout",
     "output_type": "stream",
     "text": [
      "(15951, 2)\n",
      "(5317, 2)\n",
      "(15951,)\n",
      "(5317,)\n"
     ]
    }
   ],
   "source": [
    "# default split is 75% for training and 25% for testing\n",
    "print (X_train.shape)\n",
    "print (Y_train.shape)\n",
    "print (X_test.shape)\n",
    "print(Y_test.shape)"
   ]
  },
  {
   "cell_type": "markdown",
   "metadata": {},
   "source": [
    "###      now that everything is set, we can  built the linear regression model "
   ]
  },
  {
   "cell_type": "code",
   "execution_count": 73,
   "metadata": {
    "collapsed": false
   },
   "outputs": [
    {
     "data": {
      "text/plain": [
       "LinearRegression(copy_X=True, fit_intercept=True, n_jobs=1, normalize=False)"
      ]
     },
     "execution_count": 73,
     "metadata": {},
     "output_type": "execute_result"
    }
   ],
   "source": [
    "# we import the model first\n",
    "\n",
    "from sklearn.linear_model import LinearRegression\n",
    "\n",
    "# im=ntantiate the model\n",
    "linreg = LinearRegression()\n",
    "\n",
    "# fit the model to the training data(Learn the coefficient)\n",
    "linreg.fit(X, Y)"
   ]
  },
  {
   "cell_type": "markdown",
   "metadata": {},
   "source": [
    "###  interpret model coefficients"
   ]
  },
  {
   "cell_type": "code",
   "execution_count": 76,
   "metadata": {
    "collapsed": false
   },
   "outputs": [
    {
     "name": "stdout",
     "output_type": "stream",
     "text": [
      "the Y intercept is : 272507.337387\n",
      "the coefficient is : [  -0.16322229 -120.87354235]\n"
     ]
    }
   ],
   "source": [
    "# print the intercept and the coefficient\n",
    "\n",
    "print('the Y intercept is :', linreg.intercept_)\n",
    "print ('the coefficient  is :', linreg.coef_)"
   ]
  },
  {
   "cell_type": "markdown",
   "metadata": {},
   "source": [
    "### Pair our chosen features names with the coefficients"
   ]
  },
  {
   "cell_type": "code",
   "execution_count": 79,
   "metadata": {
    "collapsed": false
   },
   "outputs": [
    {
     "data": {
      "text/plain": [
       "<zip at 0x2f8e151e688>"
      ]
     },
     "execution_count": 79,
     "metadata": {},
     "output_type": "execute_result"
    }
   ],
   "source": [
    "zip(linreg.coef_ ,linreg.coef_)"
   ]
  },
  {
   "cell_type": "markdown",
   "metadata": {},
   "source": [
    "  Our linear regression model equation can be writting as such:\n",
    "\n",
    "  Y =  - 0.163 (car_mileage)  - 120.87 (car_year)  + 272507\n",
    "\n",
    "How to interpret these coefficients?\n"
   ]
  },
  {
   "cell_type": "markdown",
   "metadata": {},
   "source": [
    "###  Conclusion:\n"
   ]
  },
  {
   "cell_type": "code",
   "execution_count": null,
   "metadata": {
    "collapsed": true
   },
   "outputs": [],
   "source": []
  }
 ],
 "metadata": {
  "kernelspec": {
   "display_name": "Python 3",
   "language": "python",
   "name": "python3"
  },
  "language_info": {
   "codemirror_mode": {
    "name": "ipython",
    "version": 3
   },
   "file_extension": ".py",
   "mimetype": "text/x-python",
   "name": "python",
   "nbconvert_exporter": "python",
   "pygments_lexer": "ipython3",
   "version": "3.6.0"
  }
 },
 "nbformat": 4,
 "nbformat_minor": 2
}
